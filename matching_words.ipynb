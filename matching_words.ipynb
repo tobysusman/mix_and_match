{
 "metadata": {
  "language_info": {
   "codemirror_mode": {
    "name": "ipython",
    "version": 3
   },
   "file_extension": ".py",
   "mimetype": "text/x-python",
   "name": "python",
   "nbconvert_exporter": "python",
   "pygments_lexer": "ipython3",
   "version": "3.8.6-final"
  },
  "orig_nbformat": 2,
  "kernelspec": {
   "name": "python3",
   "display_name": "Python 3.8.6 64-bit",
   "metadata": {
    "interpreter": {
     "hash": "d144fa90d4a329fcb5c3aa323307d0eb0945b850553210817c12573cc078f651"
    }
   }
  }
 },
 "nbformat": 4,
 "nbformat_minor": 2,
 "cells": [
  {
   "source": [
    "Import the relevant libraries:"
   ],
   "cell_type": "markdown",
   "metadata": {}
  },
  {
   "cell_type": "code",
   "execution_count": 1,
   "metadata": {},
   "outputs": [],
   "source": [
    "import pandas as pd\n",
    "import os"
   ]
  },
  {
   "source": [
    "## Defining the functions, need to put in the following: ##\n",
    "#### max_number, this is the maximum number of links, it gives a limit for the code to run until ####\n",
    "#### sheet_one, this is the name of one of the sheets you want to look at ####\n",
    "#### sheet_two, this is the name of the other sheet you want to look at ####"
   ],
   "cell_type": "markdown",
   "metadata": {}
  },
  {
   "cell_type": "code",
   "execution_count": 60,
   "metadata": {},
   "outputs": [],
   "source": [
    "def number_of_matches(max_number, sheet_one, sheet_two):    \n",
    "    os.chdir('./Entry')\n",
    "    df1 = pd.read_excel('Things.xlsx', sheet_one)\n",
    "    df2 = pd.read_excel('Things.xlsx', sheet_two)\n",
    "    matches= pd.DataFrame()\n",
    "    for number in [x+3 for x in range(max_number-2)]:\n",
    "        last_col = 'Last'+ str(number)\n",
    "        first_col = 'First'+str(number)\n",
    "        df1[last_col] = df1['Name'].str.lower().str.replace(' ','').str[-number:]\n",
    "\n",
    "        df2 = pd.read_excel('Things.xlsx', sheet_two)\n",
    "        df2[first_col] = df2['Name'].str.lower().str.replace(' ', '').str[:number] \n",
    "        \n",
    "\n",
    "        for name in df1['Name'].unique():\n",
    "            last = df1[df1['Name'] == name][last_col].to_list()[0]\n",
    "            df2_comparison = df2[df2[first_col] == last]['Name'].to_list()\n",
    "            if len(df2_comparison) > 0:\n",
    "                for comp in df2_comparison:\n",
    "                    matches = matches.append([[name, comp, number, name[:-number] + comp]])\n",
    "    matches = matches.rename(columns = {0: 'Thing1', 1: 'Thing2', 2: 'Number_of_digits', 3: 'Mixup_Name'})\n",
    "    title = sheet_one +'_to_'+ sheet_two +'.xlsx'\n",
    "    os.chdir('../')\n",
    "    matches.to_excel(title, index = False)\n",
    "    return matches\n",
    "\n",
    "def mixed_up_stuff(number, sheet_one, sheet_two):\n",
    "    number_of_matches(number, sheet_one, sheet_two)\n",
    "    number_of_matches(number, sheet_two, sheet_one)"
   ]
  },
  {
   "cell_type": "code",
   "execution_count": 62,
   "metadata": {},
   "outputs": [],
   "source": [
    "mixed_up_stuff(4, 'EnglandPlayers', 'OscarFilms')"
   ]
  }
 ]
}